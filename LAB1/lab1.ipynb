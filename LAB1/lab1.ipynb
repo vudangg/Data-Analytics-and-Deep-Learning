{
 "cells": [
  {
   "attachments": {},
   "cell_type": "markdown",
   "metadata": {},
   "source": [
    "## **LAB 1**"
   ]
  },
  {
   "cell_type": "code",
   "execution_count": 6,
   "metadata": {},
   "outputs": [
    {
     "name": "stdout",
     "output_type": "stream",
     "text": [
      "10 dòng đầu tiên:\n",
      "   STT   T1   L1   H1   S1   V1   X1   D1   N1   T2  ...  TBM1  TBM2  TBM3  \\\n",
      "0    1  7.2  7.3  6.3  7.3  7.0  7.9  7.3  5.5  8.4  ...  7.00  7.54  7.01   \n",
      "1    2  5.4  3.9  3.9  4.0  5.4  5.4  5.3  2.8  6.3  ...  4.69  5.47  5.07   \n",
      "2    3  5.6  6.8  7.2  7.5  4.3  7.4  5.8  3.2  5.0  ...  5.77  5.38  6.04   \n",
      "3    4  6.6  6.4  5.3  6.9  5.4  7.3  6.4  5.8  5.1  ...  6.21  5.20  6.88   \n",
      "4    5  6.0  5.0  6.0  7.3  6.5  7.7  7.9  6.1  5.4  ...  6.50  6.36  6.99   \n",
      "5    6  9.3  7.6  7.9  8.6  7.0  7.3  7.7  7.9  9.6  ...  7.96  8.54  7.38   \n",
      "6    7  2.8  3.9  5.5  6.9  5.0  7.3  4.6  5.2  4.4  ...  4.90  5.60  6.01   \n",
      "7    8  8.3  6.0  7.6  5.1  7.5  4.7  5.8  7.2  6.7  ...  6.80  6.87  7.03   \n",
      "8    9  6.5  6.3  7.6  6.0  5.5  7.1  6.3  5.0  7.3  ...  6.23  6.72  7.56   \n",
      "9   10  7.3  5.9  4.7  7.1  6.7  7.9  6.7  7.7  8.0  ...  6.80  7.25  7.03   \n",
      "\n",
      "   XL1  XL2  XL3  US_TBM1  US_TBM2  US_TBM3  KQXT  \n",
      "0    K    K    K    2.800    3.016    2.804   0.0  \n",
      "1    Y   TB   TB    1.876    2.188    2.028   0.0  \n",
      "2   TB   TB   TB    2.308    2.152    2.416   1.0  \n",
      "3   TB   TB    K    2.484    2.080    2.752   0.0  \n",
      "4    K   TB    K    2.600    2.544    2.796   0.0  \n",
      "5    K    G    K    3.184    3.416    2.952   0.0  \n",
      "6    Y   TB   TB    1.960    2.240    2.404   1.0  \n",
      "7    K    K    K    2.720    2.748    2.812   0.0  \n",
      "8   TB    K    K    2.492    2.688    3.024   0.0  \n",
      "9    K    K    K    2.720    2.900    2.812   0.0  \n",
      "\n",
      "[10 rows x 66 columns]\n",
      "\n",
      "10 dòng cuối cùng:\n",
      "    STT   T1   L1   H1   S1   V1   X1   D1   N1   T2  ...  TBM1  TBM2  TBM3  \\\n",
      "90   91  8.1  7.7  9.1  8.5  6.1  8.6  8.8  7.3  8.8  ...  7.84  8.27  8.29   \n",
      "91   92  7.8  6.5  6.7  5.4  6.2  4.8  5.9  4.4  8.9  ...  6.17  6.63  7.65   \n",
      "92   93  5.0  6.6  6.5  7.2  5.8  6.7  6.4  6.0  6.8  ...  6.10  6.53  6.76   \n",
      "93   94  5.2  5.2  6.8  7.9  6.6  8.9  7.6  5.3  6.8  ...  6.53  7.12  6.97   \n",
      "94   95  5.8  5.9  7.6  6.1  5.3  8.1  6.1  5.0  6.4  ...  6.10  6.71  6.68   \n",
      "95   96  8.6  6.9  7.4  8.8  7.6  5.8  7.3  5.7  8.9  ...  7.43  7.42  6.83   \n",
      "96   97  3.7  5.4  6.0  5.1  5.5  3.9  6.1  4.4  4.1  ...  4.93  5.15  6.39   \n",
      "97   98  8.8  5.5  7.4  7.7  6.2  7.3  8.1  4.5  9.5  ...  7.05  7.84  7.67   \n",
      "98   99  2.7  1.8  3.4  5.3  4.5  7.9  4.9  3.8  2.8  ...  4.15  4.72  5.29   \n",
      "99  100  4.1  5.2  4.9  5.3  5.5  5.4  7.2  5.4  4.4  ...  5.26  5.72  5.85   \n",
      "\n",
      "    XL1  XL2  XL3  US_TBM1  US_TBM2  US_TBM3  KQXT  \n",
      "90    K    G    G    3.136    3.308    3.316   1.0  \n",
      "91   TB    K    K    2.468    2.652    3.060   0.0  \n",
      "92   TB    K    K    2.440    2.612    2.704   0.0  \n",
      "93    K    K    K    2.612    2.848    2.788   0.0  \n",
      "94   TB    K    K    2.440    2.684    2.672   0.0  \n",
      "95    K    K    K    2.972    2.968    2.732   0.0  \n",
      "96    Y   TB   TB    1.972    2.060    2.556   0.0  \n",
      "97    K    K    K    2.820    3.136    3.068   1.0  \n",
      "98    Y    Y   TB    1.660    1.888    2.116   0.0  \n",
      "99   TB   TB   TB    2.104    2.288    2.340   0.0  \n",
      "\n",
      "[10 rows x 66 columns]\n"
     ]
    }
   ],
   "source": [
    "import pandas as pd\n",
    "\n",
    "# Đọc dữ liệu từ file CSV\n",
    "df = pd.read_csv('processed_dulieuxettuyendaihoc.csv')\n",
    "\n",
    "# In ra 10 dòng đầu tiên và 10 dòng cuối cùng\n",
    "print(\"10 dòng đầu tiên:\")\n",
    "print(df.head(10))\n",
    "\n",
    "print(\"\\n10 dòng cuối cùng:\")\n",
    "print(df.tail(10))\n"
   ]
  },
  {
   "cell_type": "code",
   "execution_count": 1,
   "metadata": {},
   "outputs": [
    {
     "ename": "ModuleNotFoundError",
     "evalue": "No module named 'pandas'",
     "output_type": "error",
     "traceback": [
      "\u001b[1;31m---------------------------------------------------------------------------\u001b[0m",
      "\u001b[1;31mModuleNotFoundError\u001b[0m                       Traceback (most recent call last)",
      "Cell \u001b[1;32mIn[1], line 1\u001b[0m\n\u001b[1;32m----> 1\u001b[0m \u001b[38;5;28;01mimport\u001b[39;00m \u001b[38;5;21;01mpandas\u001b[39;00m \u001b[38;5;28;01mas\u001b[39;00m \u001b[38;5;21;01mpd\u001b[39;00m\n\u001b[0;32m      3\u001b[0m \u001b[38;5;66;03m# Tạo DataFrame mẫu (nếu chưa có)\u001b[39;00m\n\u001b[0;32m      4\u001b[0m df \u001b[38;5;241m=\u001b[39m pd\u001b[38;5;241m.\u001b[39mDataFrame({\n\u001b[0;32m      5\u001b[0m     \u001b[38;5;124m'\u001b[39m\u001b[38;5;124mDT\u001b[39m\u001b[38;5;124m'\u001b[39m: [\u001b[38;5;241m10\u001b[39m, \u001b[38;5;28;01mNone\u001b[39;00m, \u001b[38;5;241m20\u001b[39m, \u001b[38;5;28;01mNone\u001b[39;00m, \u001b[38;5;241m30\u001b[39m]\n\u001b[0;32m      6\u001b[0m })\n",
      "\u001b[1;31mModuleNotFoundError\u001b[0m: No module named 'pandas'"
     ]
    }
   ],
   "source": [
    "import pandas as pd\n",
    "\n",
    "# Tạo DataFrame mẫu (nếu chưa có)\n",
    "df = pd.DataFrame({\n",
    "    'DT': [10, None, 20, None, 30]\n",
    "})\n",
    "\n",
    "# Điền giá trị 0 vào các ô thiếu trong cột 'DT'\n",
    "df['DT'].fillna(0, inplace=True)\n",
    "\n",
    "# Kiểm tra lại dữ liệu thiếu sau khi thay thế\n",
    "missing_data_after = df['DT'].isnull().sum()\n",
    "print(f\"Số lượng dữ liệu thiếu sau khi thay thế: {missing_data_after}\")\n"
   ]
  },
  {
   "attachments": {},
   "cell_type": "markdown",
   "metadata": {},
   "source": [
    "## **2. Thực hiện thay thế dữ liệu thiếu bằng phương pháp Mean**"
   ]
  },
  {
   "cell_type": "code",
   "execution_count": 6,
   "metadata": {},
   "outputs": [
    {
     "ename": "NameError",
     "evalue": "name 'df' is not defined",
     "output_type": "error",
     "traceback": [
      "\u001b[1;31m---------------------------------------------------------------------------\u001b[0m",
      "\u001b[1;31mNameError\u001b[0m                                 Traceback (most recent call last)",
      "Cell \u001b[1;32mIn[6], line 2\u001b[0m\n\u001b[0;32m      1\u001b[0m \u001b[39m# Thay thế dữ liệu thiếu trong các cột bằng giá trị trung bình\u001b[39;00m\n\u001b[1;32m----> 2\u001b[0m df\u001b[39m.\u001b[39mfillna(df\u001b[39m.\u001b[39mmean(), inplace\u001b[39m=\u001b[39m\u001b[39mTrue\u001b[39;00m)\n",
      "\u001b[1;31mNameError\u001b[0m: name 'df' is not defined"
     ]
    }
   ],
   "source": [
    "# Thay thế dữ liệu thiếu trong các cột bằng giá trị trung bình\n",
    "df.fillna(df.mean(), inplace=True)\n"
   ]
  },
  {
   "attachments": {},
   "cell_type": "markdown",
   "metadata": {},
   "source": [
    "## **6. Xử lý dữ liệu thiếu cho các biến điểm số còn lại**\n"
   ]
  },
  {
   "cell_type": "code",
   "execution_count": 4,
   "metadata": {},
   "outputs": [
    {
     "ename": "NameError",
     "evalue": "name 'df' is not defined",
     "output_type": "error",
     "traceback": [
      "\u001b[1;31m---------------------------------------------------------------------------\u001b[0m",
      "\u001b[1;31mNameError\u001b[0m                                 Traceback (most recent call last)",
      "Cell \u001b[1;32mIn[4], line 7\u001b[0m\n\u001b[0;32m      2\u001b[0m cols \u001b[39m=\u001b[39m [\u001b[39m'\u001b[39m\u001b[39mT1\u001b[39m\u001b[39m'\u001b[39m, \u001b[39m'\u001b[39m\u001b[39mL1\u001b[39m\u001b[39m'\u001b[39m, \u001b[39m'\u001b[39m\u001b[39mH1\u001b[39m\u001b[39m'\u001b[39m, \u001b[39m'\u001b[39m\u001b[39mS1\u001b[39m\u001b[39m'\u001b[39m, \u001b[39m'\u001b[39m\u001b[39mV1\u001b[39m\u001b[39m'\u001b[39m, \u001b[39m'\u001b[39m\u001b[39mX1\u001b[39m\u001b[39m'\u001b[39m, \u001b[39m'\u001b[39m\u001b[39mD1\u001b[39m\u001b[39m'\u001b[39m, \u001b[39m'\u001b[39m\u001b[39mN1\u001b[39m\u001b[39m'\u001b[39m,\n\u001b[0;32m      3\u001b[0m         \u001b[39m'\u001b[39m\u001b[39mT2\u001b[39m\u001b[39m'\u001b[39m, \u001b[39m'\u001b[39m\u001b[39mL2\u001b[39m\u001b[39m'\u001b[39m, \u001b[39m'\u001b[39m\u001b[39mH2\u001b[39m\u001b[39m'\u001b[39m, \u001b[39m'\u001b[39m\u001b[39mS2\u001b[39m\u001b[39m'\u001b[39m, \u001b[39m'\u001b[39m\u001b[39mV2\u001b[39m\u001b[39m'\u001b[39m, \u001b[39m'\u001b[39m\u001b[39mX2\u001b[39m\u001b[39m'\u001b[39m, \u001b[39m'\u001b[39m\u001b[39mD2\u001b[39m\u001b[39m'\u001b[39m, \u001b[39m'\u001b[39m\u001b[39mN2\u001b[39m\u001b[39m'\u001b[39m,\n\u001b[0;32m      4\u001b[0m         \u001b[39m'\u001b[39m\u001b[39mT6\u001b[39m\u001b[39m'\u001b[39m, \u001b[39m'\u001b[39m\u001b[39mL6\u001b[39m\u001b[39m'\u001b[39m, \u001b[39m'\u001b[39m\u001b[39mH6\u001b[39m\u001b[39m'\u001b[39m, \u001b[39m'\u001b[39m\u001b[39mS6\u001b[39m\u001b[39m'\u001b[39m, \u001b[39m'\u001b[39m\u001b[39mV6\u001b[39m\u001b[39m'\u001b[39m, \u001b[39m'\u001b[39m\u001b[39mX6\u001b[39m\u001b[39m'\u001b[39m, \u001b[39m'\u001b[39m\u001b[39mD6\u001b[39m\u001b[39m'\u001b[39m, \u001b[39m'\u001b[39m\u001b[39mN6\u001b[39m\u001b[39m'\u001b[39m,\n\u001b[0;32m      5\u001b[0m         \u001b[39m'\u001b[39m\u001b[39mDH1\u001b[39m\u001b[39m'\u001b[39m, \u001b[39m'\u001b[39m\u001b[39mDH2\u001b[39m\u001b[39m'\u001b[39m, \u001b[39m'\u001b[39m\u001b[39mDH3\u001b[39m\u001b[39m'\u001b[39m]\n\u001b[0;32m      6\u001b[0m \u001b[39m# Thay thế các giá trị thiếu trong các cột trên bằng giá trị trung bình của mỗi cột\u001b[39;00m\n\u001b[1;32m----> 7\u001b[0m df[cols] \u001b[39m=\u001b[39m df[cols]\u001b[39m.\u001b[39mfillna(df[cols]\u001b[39m.\u001b[39mmean())\n",
      "\u001b[1;31mNameError\u001b[0m: name 'df' is not defined"
     ]
    }
   ],
   "source": [
    "# Chỉ thay thế dữ liệu thiếu cho các cột liên quan đến điểm số\n",
    "cols = ['T1', 'L1', 'H1', 'S1', 'V1', 'X1', 'D1', 'N1',\n",
    "        'T2', 'L2', 'H2', 'S2', 'V2', 'X2', 'D2', 'N2',\n",
    "        'T6', 'L6', 'H6', 'S6', 'V6', 'X6', 'D6', 'N6',\n",
    "        'DH1', 'DH2', 'DH3']\n",
    "# Thay thế các giá trị thiếu trong các cột trên bằng giá trị trung bình của mỗi cột\n",
    "df[cols] = df[cols].fillna(df[cols].mean())\n",
    "\n"
   ]
  },
  {
   "attachments": {},
   "cell_type": "markdown",
   "metadata": {},
   "source": [
    "## **7. Tạo các biến TBM1, TBM2, TBM3 tương ứng với trung bình môn của các năm lớp 10, 11 và 12**\n"
   ]
  },
  {
   "cell_type": "code",
   "execution_count": 3,
   "metadata": {},
   "outputs": [
    {
     "ename": "NameError",
     "evalue": "name 'df' is not defined",
     "output_type": "error",
     "traceback": [
      "\u001b[1;31m---------------------------------------------------------------------------\u001b[0m",
      "\u001b[1;31mNameError\u001b[0m                                 Traceback (most recent call last)",
      "Cell \u001b[1;32mIn[3], line 2\u001b[0m\n\u001b[0;32m      1\u001b[0m \u001b[39m# Tính TBM1, TBM2, TBM3 theo công thức\u001b[39;00m\n\u001b[1;32m----> 2\u001b[0m df[\u001b[39m'\u001b[39m\u001b[39mTBM1\u001b[39m\u001b[39m'\u001b[39m] \u001b[39m=\u001b[39m (df[\u001b[39m'\u001b[39m\u001b[39mT1\u001b[39m\u001b[39m'\u001b[39m]\u001b[39m*\u001b[39m\u001b[39m2\u001b[39m \u001b[39m+\u001b[39m df[\u001b[39m'\u001b[39m\u001b[39mL1\u001b[39m\u001b[39m'\u001b[39m] \u001b[39m+\u001b[39m df[\u001b[39m'\u001b[39m\u001b[39mH1\u001b[39m\u001b[39m'\u001b[39m] \u001b[39m+\u001b[39m df[\u001b[39m'\u001b[39m\u001b[39mS1\u001b[39m\u001b[39m'\u001b[39m] \u001b[39m+\u001b[39m df[\u001b[39m'\u001b[39m\u001b[39mV1\u001b[39m\u001b[39m'\u001b[39m]\u001b[39m*\u001b[39m\u001b[39m2\u001b[39m \u001b[39m+\u001b[39m df[\u001b[39m'\u001b[39m\u001b[39mX1\u001b[39m\u001b[39m'\u001b[39m] \u001b[39m+\u001b[39m df[\u001b[39m'\u001b[39m\u001b[39mD1\u001b[39m\u001b[39m'\u001b[39m] \u001b[39m+\u001b[39m df[\u001b[39m'\u001b[39m\u001b[39mN1\u001b[39m\u001b[39m'\u001b[39m]) \u001b[39m/\u001b[39m \u001b[39m10\u001b[39m\n\u001b[0;32m      3\u001b[0m df[\u001b[39m'\u001b[39m\u001b[39mTBM2\u001b[39m\u001b[39m'\u001b[39m] \u001b[39m=\u001b[39m (df[\u001b[39m'\u001b[39m\u001b[39mT2\u001b[39m\u001b[39m'\u001b[39m]\u001b[39m*\u001b[39m\u001b[39m2\u001b[39m \u001b[39m+\u001b[39m df[\u001b[39m'\u001b[39m\u001b[39mL2\u001b[39m\u001b[39m'\u001b[39m] \u001b[39m+\u001b[39m df[\u001b[39m'\u001b[39m\u001b[39mH2\u001b[39m\u001b[39m'\u001b[39m] \u001b[39m+\u001b[39m df[\u001b[39m'\u001b[39m\u001b[39mS2\u001b[39m\u001b[39m'\u001b[39m] \u001b[39m+\u001b[39m df[\u001b[39m'\u001b[39m\u001b[39mV2\u001b[39m\u001b[39m'\u001b[39m]\u001b[39m*\u001b[39m\u001b[39m2\u001b[39m \u001b[39m+\u001b[39m df[\u001b[39m'\u001b[39m\u001b[39mX2\u001b[39m\u001b[39m'\u001b[39m] \u001b[39m+\u001b[39m df[\u001b[39m'\u001b[39m\u001b[39mD2\u001b[39m\u001b[39m'\u001b[39m] \u001b[39m+\u001b[39m df[\u001b[39m'\u001b[39m\u001b[39mN2\u001b[39m\u001b[39m'\u001b[39m]) \u001b[39m/\u001b[39m \u001b[39m10\u001b[39m\n\u001b[0;32m      4\u001b[0m df[\u001b[39m'\u001b[39m\u001b[39mTBM3\u001b[39m\u001b[39m'\u001b[39m] \u001b[39m=\u001b[39m (df[\u001b[39m'\u001b[39m\u001b[39mT6\u001b[39m\u001b[39m'\u001b[39m]\u001b[39m*\u001b[39m\u001b[39m2\u001b[39m \u001b[39m+\u001b[39m df[\u001b[39m'\u001b[39m\u001b[39mL6\u001b[39m\u001b[39m'\u001b[39m] \u001b[39m+\u001b[39m df[\u001b[39m'\u001b[39m\u001b[39mH6\u001b[39m\u001b[39m'\u001b[39m] \u001b[39m+\u001b[39m df[\u001b[39m'\u001b[39m\u001b[39mS6\u001b[39m\u001b[39m'\u001b[39m] \u001b[39m+\u001b[39m df[\u001b[39m'\u001b[39m\u001b[39mV6\u001b[39m\u001b[39m'\u001b[39m]\u001b[39m*\u001b[39m\u001b[39m2\u001b[39m \u001b[39m+\u001b[39m df[\u001b[39m'\u001b[39m\u001b[39mX6\u001b[39m\u001b[39m'\u001b[39m] \u001b[39m+\u001b[39m df[\u001b[39m'\u001b[39m\u001b[39mD6\u001b[39m\u001b[39m'\u001b[39m] \u001b[39m+\u001b[39m df[\u001b[39m'\u001b[39m\u001b[39mN6\u001b[39m\u001b[39m'\u001b[39m]) \u001b[39m/\u001b[39m \u001b[39m10\u001b[39m\n",
      "\u001b[1;31mNameError\u001b[0m: name 'df' is not defined"
     ]
    }
   ],
   "source": [
    "# Tính TBM1, TBM2, TBM3 theo công thức\n",
    "df['TBM1'] = (df['T1']*2 + df['L1'] + df['H1'] + df['S1'] + df['V1']*2 + df['X1'] + df['D1'] + df['N1']) / 10\n",
    "df['TBM2'] = (df['T2']*2 + df['L2'] + df['H2'] + df['S2'] + df['V2']*2 + df['X2'] + df['D2'] + df['N2']) / 10\n",
    "df['TBM3'] = (df['T6']*2 + df['L6'] + df['H6'] + df['S6'] + df['V6']*2 + df['X6'] + df['D6'] + df['N6']) / 10\n"
   ]
  },
  {
   "attachments": {},
   "cell_type": "markdown",
   "metadata": {},
   "source": [
    "## **8. Tạo các biến xếp loại XL1, XL2, XL3 dựa trên TBM1, TBM2, TBM3**"
   ]
  },
  {
   "cell_type": "code",
   "execution_count": 2,
   "metadata": {},
   "outputs": [
    {
     "ename": "NameError",
     "evalue": "name 'df' is not defined",
     "output_type": "error",
     "traceback": [
      "\u001b[1;31m---------------------------------------------------------------------------\u001b[0m",
      "\u001b[1;31mNameError\u001b[0m                                 Traceback (most recent call last)",
      "Cell \u001b[1;32mIn[2], line 15\u001b[0m\n\u001b[0;32m     12\u001b[0m         \u001b[39mreturn\u001b[39;00m \u001b[39m'\u001b[39m\u001b[39mXS\u001b[39m\u001b[39m'\u001b[39m  \u001b[39m# xuất sắc\u001b[39;00m\n\u001b[0;32m     14\u001b[0m \u001b[39m# Áp dụng hàm xếp loại cho các cột TBM1, TBM2, TBM3\u001b[39;00m\n\u001b[1;32m---> 15\u001b[0m df[\u001b[39m'\u001b[39m\u001b[39mXL1\u001b[39m\u001b[39m'\u001b[39m] \u001b[39m=\u001b[39m df[\u001b[39m'\u001b[39m\u001b[39mTBM1\u001b[39m\u001b[39m'\u001b[39m]\u001b[39m.\u001b[39mapply(xep_loai)\n\u001b[0;32m     16\u001b[0m df[\u001b[39m'\u001b[39m\u001b[39mXL2\u001b[39m\u001b[39m'\u001b[39m] \u001b[39m=\u001b[39m df[\u001b[39m'\u001b[39m\u001b[39mTBM2\u001b[39m\u001b[39m'\u001b[39m]\u001b[39m.\u001b[39mapply(xep_loai)\n\u001b[0;32m     17\u001b[0m df[\u001b[39m'\u001b[39m\u001b[39mXL3\u001b[39m\u001b[39m'\u001b[39m] \u001b[39m=\u001b[39m df[\u001b[39m'\u001b[39m\u001b[39mTBM3\u001b[39m\u001b[39m'\u001b[39m]\u001b[39m.\u001b[39mapply(xep_loai)\n",
      "\u001b[1;31mNameError\u001b[0m: name 'df' is not defined"
     ]
    }
   ],
   "source": [
    "# Hàm xếp loại\n",
    "def xep_loai(tbm):\n",
    "    if tbm < 5.0:\n",
    "        return 'Y'  # yếu\n",
    "    elif 5.0 <= tbm < 6.5:\n",
    "        return 'TB'  # trung bình\n",
    "    elif 6.5 <= tbm < 8.0:\n",
    "        return 'K'  # khá\n",
    "    elif 8.0 <= tbm < 9.0:\n",
    "        return 'G'  # giỏi\n",
    "    else:\n",
    "        return 'XS'  # xuất sắc\n",
    "\n",
    "# Áp dụng hàm xếp loại cho các cột TBM1, TBM2, TBM3\n",
    "df['XL1'] = df['TBM1'].apply(xep_loai)\n",
    "df['XL2'] = df['TBM2'].apply(xep_loai)\n",
    "df['XL3'] = df['TBM3'].apply(xep_loai)\n"
   ]
  },
  {
   "attachments": {},
   "cell_type": "markdown",
   "metadata": {},
   "source": [
    "## **10. Tạo biến kết quả xét tuyển KQXT dựa trên điểm thi đại học**"
   ]
  },
  {
   "cell_type": "code",
   "execution_count": 1,
   "metadata": {},
   "outputs": [
    {
     "ename": "NameError",
     "evalue": "name 'df' is not defined",
     "output_type": "error",
     "traceback": [
      "\u001b[1;31m---------------------------------------------------------------------------\u001b[0m",
      "\u001b[1;31mNameError\u001b[0m                                 Traceback (most recent call last)",
      "Cell \u001b[1;32mIn[1], line 13\u001b[0m\n\u001b[0;32m     10\u001b[0m     \u001b[39mreturn\u001b[39;00m \u001b[39m1\u001b[39m \u001b[39mif\u001b[39;00m diem \u001b[39m>\u001b[39m\u001b[39m=\u001b[39m \u001b[39m5.0\u001b[39m \u001b[39melse\u001b[39;00m \u001b[39m0\u001b[39m\n\u001b[0;32m     12\u001b[0m \u001b[39m# Áp dụng hàm để tạo cột KQXT\u001b[39;00m\n\u001b[1;32m---> 13\u001b[0m df[\u001b[39m'\u001b[39m\u001b[39mKQXT\u001b[39m\u001b[39m'\u001b[39m] \u001b[39m=\u001b[39m df\u001b[39m.\u001b[39mapply(ket_qua_xet_tuyen, axis\u001b[39m=\u001b[39m\u001b[39m1\u001b[39m)\n",
      "\u001b[1;31mNameError\u001b[0m: name 'df' is not defined"
     ]
    }
   ],
   "source": [
    "# Hàm tính kết quả xét tuyển\n",
    "def ket_qua_xet_tuyen(row):\n",
    "    if row['KT'] in ['A', 'A1']:\n",
    "        diem = (row['DH1']*2 + row['DH2'] + row['DH3']) / 4\n",
    "    elif row['KT'] == 'B':\n",
    "        diem = (row['DH1'] + row['DH2']*2 + row['DH3']) / 4\n",
    "    else:\n",
    "        diem = (row['DH1'] + row['DH2'] + row['DH3']) / 3\n",
    "    \n",
    "    return 1 if diem >= 5.0 else 0\n",
    "\n",
    "# Áp dụng hàm để tạo cột KQXT\n",
    "df['KQXT'] = df.apply(ket_qua_xet_tuyen, axis=1)\n"
   ]
  },
  {
   "attachments": {},
   "cell_type": "markdown",
   "metadata": {},
   "source": [
    "## **LAB 2:BÀI THỰC HÀNH TRÌNH BÀY DỮ LIỆU**"
   ]
  }
 ],
 "metadata": {
  "kernelspec": {
   "display_name": "Python 3",
   "language": "python",
   "name": "python3"
  },
  "language_info": {
   "codemirror_mode": {
    "name": "ipython",
    "version": 3
   },
   "file_extension": ".py",
   "mimetype": "text/x-python",
   "name": "python",
   "nbconvert_exporter": "python",
   "pygments_lexer": "ipython3",
   "version": "3.12.9"
  },
  "orig_nbformat": 4,
  "vscode": {
   "interpreter": {
    "hash": "11938c6bc6919ae2720b4d5011047913343b08a43b18698fd82dedb0d4417594"
   }
  }
 },
 "nbformat": 4,
 "nbformat_minor": 2
}
