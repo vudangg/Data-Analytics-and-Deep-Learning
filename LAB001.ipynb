{
  "nbformat": 4,
  "nbformat_minor": 0,
  "metadata": {
    "colab": {
      "provenance": []
    },
    "kernelspec": {
      "name": "python3",
      "display_name": "Python 3"
    },
    "language_info": {
      "name": "python"
    }
  },
  "cells": [
    {
      "cell_type": "code",
      "execution_count": 1,
      "metadata": {
        "colab": {
          "base_uri": "https://localhost:8080/"
        },
        "collapsed": true,
        "id": "K05mVyMgUC1M",
        "outputId": "93ba0b7d-2f2d-4078-c210-6e0bf816b934"
      },
      "outputs": [
        {
          "output_type": "stream",
          "name": "stdout",
          "text": [
            "Index(['STT', 'T1', 'L1', 'H1', 'S1', 'V1', 'X1', 'D1', 'N1', 'T2', 'L2', 'H2',\n",
            "       'S2', 'V2', 'X2', 'D2', 'N2', 'T3', 'L3', 'H3', 'S3', 'V3', 'X3', 'D3',\n",
            "       'N3', 'T4', 'L4', 'H4', 'S4', 'V4', 'X4', 'D4', 'N4', 'T5', 'L5', 'H5',\n",
            "       'S5', 'V5', 'X5', 'D5', 'N5', 'T6', 'L6', 'H6', 'S6', 'V6', 'X6', 'D6',\n",
            "       'N6', 'GT', 'DT', 'KV', 'DH1', 'DH2', 'DH3', 'KT'],\n",
            "      dtype='object')\n"
          ]
        }
      ],
      "source": [
        "# 1. Xác định và phân loại dữ liệu định tính và định lượng\n",
        "# Dữ liệu định tính: Là các biến có giá trị không phải là số, ví dụ: KV (dân tộc), KT (khối thi)\n",
        "# Dữ liệu định lượng: Là các biến có giá trị là số, ví dụ: T1, T2, ... (điểm các môn)\n",
        "\n",
        "# 2. Định nghĩa các thang đo phù hợp cho từng biến số\n",
        "# Dữ liệu định tính: Sử dụng thang đo danh nghĩa (Nominal Scale), ví dụ: KV (dân tộc), KT (khối thi)\n",
        "# Dữ liệu định lượng: Sử dụng thang đo tỷ lệ (Ratio Scale), ví dụ: T1, T2, ... (điểm các môn), DH1, DH2, DH3 (điểm xét tuyển)\n"
      ]
    },
    {
      "cell_type": "code",
      "source": [
        "import pandas as pd\n",
        "\n",
        "# 3. Sử dụng Python để tải dữ liệu và in ra 10 dòng đầu tiên và 10 dòng cuối cùng\n",
        "df = pd.read_csv('dulieuxettuyendaihoc.csv')\n",
        "\n",
        "# In 10 dòng đầu tiên và 10 dòng cuối cùng\n",
        "print(df.head(10))\n",
        "print(df.tail(10))"
      ],
      "metadata": {
        "colab": {
          "base_uri": "https://localhost:8080/"
        },
        "id": "hhu49aDsXYz6",
        "outputId": "3f5dc299-a492-42e1-f2b4-967fb997e7f7"
      },
      "execution_count": 2,
      "outputs": [
        {
          "output_type": "stream",
          "name": "stdout",
          "text": [
            "   STT   T1   L1   H1   S1   V1   X1   D1   N1   T2  ...   X6   D6   N6  GT  \\\n",
            "0    1  7.2  7.3  6.3  7.3  7.0  7.9  7.3  5.5  8.4  ...  6.6  7.6  5.9   F   \n",
            "1    2  5.4  3.9  3.9  4.0  5.4  5.4  5.3  2.8  6.3  ...  6.6  6.1  4.4   M   \n",
            "2    3  5.6  6.8  7.2  7.5  4.3  7.4  5.8  3.2  5.0  ...  7.9  8.1  4.6   M   \n",
            "3    4  6.6  6.4  5.3  6.9  5.4  7.3  6.4  5.8  5.1  ...  7.1  7.3  7.4   M   \n",
            "4    5  6.0  5.0  6.0  7.3  6.5  7.7  7.9  6.1  5.4  ...  6.1  7.5  7.2   M   \n",
            "5    6  9.3  7.6  7.9  8.6  7.0  7.3  7.7  7.9  9.6  ...  5.7  8.0  7.8   M   \n",
            "6    7  2.8  3.9  5.5  6.9  5.0  7.3  4.6  5.2  4.4  ...  6.6  6.0  6.0   F   \n",
            "7    8  8.3  6.0  7.6  5.1  7.5  4.7  5.8  7.2  6.7  ...  7.1  6.8  7.0   F   \n",
            "8    9  6.5  6.3  7.6  6.0  5.5  7.1  6.3  5.0  7.3  ...  9.1  7.9  6.1   F   \n",
            "9   10  7.3  5.9  4.7  7.1  6.7  7.9  6.7  7.7  8.0  ...  6.4  6.1  7.8   F   \n",
            "\n",
            "   DT   KV   DH1   DH2   DH3  KT  \n",
            "0 NaN  2NT  3.25  3.25  4.50  A1  \n",
            "1 NaN    1  6.00  4.00  3.50   C  \n",
            "2 NaN    1  5.00  6.75  4.00   C  \n",
            "3 NaN    1  4.25  4.25  5.25  D1  \n",
            "4 NaN  2NT  4.25  4.50  5.00   A  \n",
            "5 NaN    1  1.50  4.00  6.00  D1  \n",
            "6 NaN    2  6.50  6.75  5.25   C  \n",
            "7 NaN    2  3.75  4.50  4.25  D1  \n",
            "8 NaN    1  3.50  3.50  6.75  D1  \n",
            "9 NaN    1  4.00  4.75  5.50  D1  \n",
            "\n",
            "[10 rows x 56 columns]\n",
            "    STT   T1   L1   H1   S1   V1   X1   D1   N1   T2  ...   X6   D6   N6  GT  \\\n",
            "90   91  8.1  7.7  9.1  8.5  6.1  8.6  8.8  7.3  8.8  ...  8.3  8.7  7.8   M   \n",
            "91   92  7.8  6.5  6.7  5.4  6.2  4.8  5.9  4.4  8.9  ...  7.2  7.4  7.0   M   \n",
            "92   93  5.0  6.6  6.5  7.2  5.8  6.7  6.4  6.0  6.8  ...  5.9  6.7  5.8   M   \n",
            "93   94  5.2  5.2  6.8  7.9  6.6  8.9  7.6  5.3  6.8  ...  8.7  7.8  5.0   M   \n",
            "94   95  5.8  5.9  7.6  6.1  5.3  8.1  6.1  5.0  6.4  ...  7.3  6.8  5.3   M   \n",
            "95   96  8.6  6.9  7.4  8.8  7.6  5.8  7.3  5.7  8.9  ...  6.3  6.1  6.2   F   \n",
            "96   97  3.7  5.4  6.0  5.1  5.5  3.9  6.1  4.4  4.1  ...  7.9  7.5  4.4   F   \n",
            "97   98  8.8  5.5  7.4  7.7  6.2  7.3  8.1  4.5  9.5  ...  9.6  8.4  5.8   M   \n",
            "98   99  2.7  1.8  3.4  5.3  4.5  7.9  4.9  3.8  2.8  ...  6.6  5.2  5.9   M   \n",
            "99  100  4.1  5.2  4.9  5.3  5.5  5.4  7.2  5.4  4.4  ...  5.6  6.6  5.8   M   \n",
            "\n",
            "    DT   KV   DH1   DH2   DH3  KT  \n",
            "90 NaN    2  6.25  4.00  6.50   A  \n",
            "91 NaN  2NT  4.75  4.75  4.50   A  \n",
            "92 NaN    1  3.25  5.25  4.25   A  \n",
            "93 NaN    1  3.50  4.25  5.00   A  \n",
            "94 NaN    1  4.25  2.50  4.75   A  \n",
            "95 NaN    1  5.25  1.50  6.25   C  \n",
            "96 NaN    1  5.25  3.75  4.75   C  \n",
            "97 NaN  2NT  7.00  8.00  4.00   C  \n",
            "98 NaN    1  5.00  3.50  5.50   C  \n",
            "99 NaN  2NT  5.25  2.50  4.25   C  \n",
            "\n",
            "[10 rows x 56 columns]\n"
          ]
        }
      ]
    },
    {
      "cell_type": "code",
      "source": [
        "# 4. Thống kê dữ liệu thiếu cho cột dân tộc và hiệu chỉnh dữ liệu thiếu\n",
        "# Bước 1: Lập bảng tần số, tần suất để khảo sát dữ liệu thiếu\n",
        "print(df['KV'].isnull().sum())\n",
        "\n",
        "# Bước 2: Thực hiện thay thế dữ liệu thiếu trong cột 'KV' bằng giá trị 0\n",
        "df['KV'] = df['KV'].fillna(0)  # Không sử dụng inplace=True nữa\n"
      ],
      "metadata": {
        "colab": {
          "base_uri": "https://localhost:8080/"
        },
        "id": "bHk4y9QoXdqy",
        "outputId": "cb00ec87-96ab-4864-c09b-167b8405e08b"
      },
      "execution_count": 5,
      "outputs": [
        {
          "output_type": "stream",
          "name": "stdout",
          "text": [
            "0\n"
          ]
        }
      ]
    },
    {
      "cell_type": "code",
      "source": [
        "# 5. Thống kê dữ liệu thiếu cho biến T1 và hiệu chỉnh dữ liệu, thay thế bằng Mean\n",
        "# Bước 1: Kiểm tra dữ liệu thiếu trong cột T1\n",
        "print(df['T1'].isnull().sum())\n",
        "\n",
        "# Bước 2: Thay thế dữ liệu thiếu trong cột T1 bằng giá trị trung bình (Mean)\n",
        "mean_T1 = df['T1'].mean()\n",
        "df['T1'] = df['T1'].fillna(mean_T1)  # Không sử dụng inplace=True nữa\n"
      ],
      "metadata": {
        "colab": {
          "base_uri": "https://localhost:8080/"
        },
        "id": "A-QIxgSJXhv6",
        "outputId": "52a6c31b-a77d-4e35-de63-29210ea096b6"
      },
      "execution_count": 6,
      "outputs": [
        {
          "output_type": "stream",
          "name": "stdout",
          "text": [
            "0\n"
          ]
        }
      ]
    },
    {
      "cell_type": "code",
      "source": [
        "# 6. Xử lý dữ liệu thiếu cho các biến về điểm số còn lại\n",
        "# Liệt kê các cột điểm số cần xử lý\n",
        "score_columns = ['T1', 'T2', 'T3', 'T4', 'T5', 'T6', 'L1', 'L2', 'L3', 'L4', 'L5', 'L6', 'H1', 'H2', 'H3', 'H4', 'H5', 'H6', 'S1', 'S2', 'S3', 'S4', 'S5', 'S6', 'V1', 'V2', 'V3', 'V4', 'V5', 'V6', 'X1', 'X2', 'X3', 'X4', 'X5', 'X6', 'D1', 'D2', 'D3', 'D4', 'D5', 'D6', 'N1', 'N2', 'N3', 'N4', 'N5', 'N6']\n",
        "# Thay thế dữ liệu thiếu trong các cột điểm số bằng giá trị trung bình\n",
        "df[score_columns] = df[score_columns].apply(lambda col: col.fillna(col.mean()), axis=0)\n"
      ],
      "metadata": {
        "id": "Z-giLpljYDe5"
      },
      "execution_count": 7,
      "outputs": []
    },
    {
      "cell_type": "code",
      "source": [
        "# 7. Tạo các biến TBM1, TBM2, TBM3\n",
        "# Công thức tính: TBM = (T*2 + L + H + S + V*2 + X + D + N) / 10\n",
        "df['TBM1'] = (df['T1']*2 + df['L1'] + df['H1'] + df['S1'] + df['V1']*2 + df['X1'] + df['D1'] + df['N1']) / 10\n",
        "df['TBM2'] = (df['T2']*2 + df['L2'] + df['H2'] + df['S2'] + df['V2']*2 + df['X2'] + df['D2'] + df['N2']) / 10\n",
        "df['TBM3'] = (df['T3']*2 + df['L3'] + df['H3'] + df['S3'] + df['V3']*2 + df['X3'] + df['D3'] + df['N3']) / 10\n"
      ],
      "metadata": {
        "id": "dJZDC4pNYKQR"
      },
      "execution_count": 8,
      "outputs": []
    },
    {
      "cell_type": "code",
      "source": [
        "# 8. Tạo các biến xếp loại XL1, XL2, XL3\n",
        "# Dựa trên giá trị của TBM:\n",
        "# Nhỏ hơn 5.0: yếu (Y), 5.0-6.5: trung bình (TB), 6.5-8.0: khá (K), 8.0-9.0: giỏi (G), >=9.0: xuất sắc (XS)\n",
        "def xep_loai(tbm):\n",
        "    if tbm < 5.0:\n",
        "        return 'Y'\n",
        "    elif 5.0 <= tbm < 6.5:\n",
        "        return 'TB'\n",
        "    elif 6.5 <= tbm < 8.0:\n",
        "        return 'K'\n",
        "    elif 8.0 <= tbm < 9.0:\n",
        "        return 'G'\n",
        "    else:\n",
        "        return 'XS'\n",
        "\n",
        "df['XL1'] = df['TBM1'].apply(xep_loai)\n",
        "df['XL2'] = df['TBM2'].apply(xep_loai)\n",
        "df['XL3'] = df['TBM3'].apply(xep_loai)\n"
      ],
      "metadata": {
        "id": "a-5JS_kIYTjy"
      },
      "execution_count": 9,
      "outputs": []
    },
    {
      "cell_type": "code",
      "source": [
        "# 9. Tạo các biến US_TBM1, US_TBM2, US_TBM3 (Chuyển từ thang điểm 10 sang thang điểm 4 của Mỹ)\n",
        "# Sử dụng Min-Max Normalization\n",
        "def min_max_normalization(tbm):\n",
        "    return (tbm - 0) / (10 - 0) * (4 - 0) + 0\n",
        "\n",
        "df['US_TBM1'] = df['TBM1'].apply(min_max_normalization)\n",
        "df['US_TBM2'] = df['TBM2'].apply(min_max_normalization)\n",
        "df['US_TBM3'] = df['TBM3'].apply(min_max_normalization)"
      ],
      "metadata": {
        "id": "3HdvIuKFYXTZ"
      },
      "execution_count": 10,
      "outputs": []
    },
    {
      "cell_type": "code",
      "source": [
        "# 10. Tạo biến kết quả xét tuyển (KQXT)\n",
        "# Điều kiện xét tuyển:\n",
        "# Với khối A, A1: [(DH1*2 + DH2 + DH3)/4] >= 5.0 thì đậu\n",
        "# Với khối B: [(DH1 + DH2*2 + DH3)/4] >= 5.0 thì đậu\n",
        "# Với khối khác: [(DH1+ DH2 + DH3)/3] >= 5.0 thì đậu\n",
        "def ket_qua_xet_tuyen(row):\n",
        "    if row['KT'] == 'A' or row['KT'] == 'A1':\n",
        "        if (row['DH1']*2 + row['DH2'] + row['DH3']) / 4 >= 5.0:\n",
        "            return 1\n",
        "    elif row['KT'] == 'B':\n",
        "        if (row['DH1'] + row['DH2']*2 + row['DH3']) / 4 >= 5.0:\n",
        "            return 1\n",
        "    else:\n",
        "        if (row['DH1'] + row['DH2'] + row['DH3']) / 3 >= 5.0:\n",
        "            return 1\n",
        "    return 0\n",
        "\n",
        "df['KQXT'] = df.apply(ket_qua_xet_tuyen, axis=1)"
      ],
      "metadata": {
        "id": "22cFf1CsYafb"
      },
      "execution_count": 11,
      "outputs": []
    },
    {
      "cell_type": "code",
      "source": [
        "# 11. Lưu trữ dữ liệu xuống ổ đĩa thành file processed_dulieuxettuyendaihoc.csv\n",
        "df.to_csv('processed_dulieuxettuyendaihoc.csv', index=False)"
      ],
      "metadata": {
        "id": "3u8UWdkSYe4x"
      },
      "execution_count": 12,
      "outputs": []
    }
  ]
}