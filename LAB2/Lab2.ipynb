{
 "cells": [
  {
   "cell_type": "markdown",
   "metadata": {},
   "source": [
    "## **Phần 1: Thống kê dữ liệu**"
   ]
  },
  {
   "cell_type": "code",
   "execution_count": null,
   "metadata": {},
   "outputs": [],
   "source": [
    "import pandas as pd\n",
    "\n",
    "# Đọc dữ liệu từ tệp CSV\n",
    "file_path = \"processed_dulieuxettuyendaihoc.csv\"\n",
    "df = pd.read_csv(file_path)\n",
    "\n",
    "# 1. Sắp xếp dữ liệu điểm DH1 theo thứ tự tăng dần\n",
    "df_sorted_dh1 = df.sort_values(by=\"DH1\")"
   ]
  },
  {
   "cell_type": "code",
   "execution_count": null,
   "metadata": {},
   "outputs": [],
   "source": [
    "# 2. Sắp xếp dữ liệu điểm DH2 tăng dần theo nhóm giới tính\n",
    "df_sorted_dh2_gt = df.sort_values(by=[\"GT\", \"DH2\"])"
   ]
  },
  {
   "cell_type": "code",
   "execution_count": null,
   "metadata": {},
   "outputs": [],
   "source": [
    "# 3. Tạo pivot-table thống kê DH1 theo KT\n",
    "pivot_kt = df.pivot_table(values=\"DH1\", index=\"KT\", aggfunc=[\"count\", \"sum\", \"mean\", \"median\", \"min\", \"max\", \"std\", \n",
    "lambda x: x.quantile(0.25), lambda x: x.quantile(0.5), lambda x: x.quantile(0.75)])\n",
    "pivot_kt.columns = [\"count\", \"sum\", \"mean\", \"median\", \"min\", \"max\", \"std\", \"Q1\", \"Q2\", \"Q3\"]"
   ]
  },
  {
   "cell_type": "code",
   "execution_count": null,
   "metadata": {},
   "outputs": [],
   "source": [
    "# 4. Tạo pivot-table thống kê DH1 theo KT và KV\n",
    "pivot_kt_kv = df.pivot_table(values=\"DH1\", index=[\"KT\", \"KV\"], aggfunc=[\"count\", \"sum\", \"mean\", \"median\", \"min\", \"max\", \"std\", \n",
    "lambda x: x.quantile(0.25), lambda x: x.quantile(0.5), lambda x: x.quantile(0.75)])\n",
    "pivot_kt_kv.columns = [\"count\", \"sum\", \"mean\", \"median\", \"min\", \"max\", \"std\", \"Q1\", \"Q2\", \"Q3\"]\n"
   ]
  },
  {
   "cell_type": "code",
   "execution_count": null,
   "metadata": {},
   "outputs": [],
   "source": [
    "# 5. Tạo pivot-table thống kê DH1 theo KT, KV và DT\n",
    "pivot_kt_kv_dt = df.pivot_table(values=\"DH1\", index=[\"KT\", \"KV\", \"DT\"], aggfunc=[\"count\", \"sum\", \"mean\", \"median\", \"min\", \"max\", \"std\", \n",
    "lambda x: x.quantile(0.25), lambda x: x.quantile(0.5), lambda x: x.quantile(0.75)])\n",
    "pivot_kt_kv_dt.columns = [\"count\", \"sum\", \"mean\", \"median\", \"min\", \"max\", \"std\", \"Q1\", \"Q2\", \"Q3\"]"
   ]
  },
  {
   "cell_type": "markdown",
   "metadata": {},
   "source": [
    "## **Phần 2: Trình bày dữ liệu**"
   ]
  },
  {
   "cell_type": "code",
   "execution_count": null,
   "metadata": {},
   "outputs": [],
   "source": [
    "import pandas as pd\n",
    "import matplotlib.pyplot as plt\n",
    "\n",
    "# Đọc dữ liệu từ tệp CSV\n",
    "file_path = \"processed_dulieuxettuyendaihoc.csv\"\n",
    "df = pd.read_csv(file_path)\n",
    "\n",
    "# 1. Trình bày dữ liệu biến GT (Giới tính)\n",
    "# Lập bảng tần số và tần suất\n",
    "gt_counts = df[\"GT\"].value_counts()\n",
    "gt_freq = gt_counts / gt_counts.sum()\n",
    "\n",
    "# Vẽ biểu đồ tần số (cột)\n",
    "plt.figure(figsize=(6, 4))\n",
    "gt_counts.plot(kind=\"bar\", color=[\"blue\", \"pink\"])\n",
    "plt.title(\"Biểu đồ tần số của GT\")\n",
    "plt.xlabel(\"Giới tính\")\n",
    "plt.ylabel(\"Tần số\")\n",
    "plt.show()\n",
    "\n",
    "# Vẽ biểu đồ tần suất (tròn)\n",
    "plt.figure(figsize=(6, 6))\n",
    "gt_counts.plot(kind=\"pie\", autopct=\"%.1f%%\", colors=[\"blue\", \"pink\"])\n",
    "plt.title(\"Biểu đồ tần suất của GT\")\n",
    "plt.ylabel(\"\")\n",
    "plt.show()\n"
   ]
  },
  {
   "cell_type": "code",
   "execution_count": null,
   "metadata": {},
   "outputs": [],
   "source": [
    "# 2. Trình bày dữ liệu lần lượt các biến US_TBM1, US_TBM2 và US_TBM3\n",
    "for var in [\"US_TBM1\", \"US_TBM2\", \"US_TBM3\"]:\n",
    "    print(f\"\\nBảng thống kê {var}:\")\n",
    "    print(df[var].describe())\n",
    "    \n",
    "    plt.figure(figsize=(6, 4))\n",
    "    df[var].hist(bins=20, color=\"green\", edgecolor=\"black\")\n",
    "    plt.title(f\"Biểu đồ phân bố {var}\")\n",
    "    plt.xlabel(var)\n",
    "    plt.ylabel(\"Tần số\")\n",
    "    plt.show()"
   ]
  },
  {
   "cell_type": "code",
   "execution_count": null,
   "metadata": {},
   "outputs": [],
   "source": [
    "# 3. Trình bày dữ liệu biến DT với học sinh nam\n",
    "df_nam = df[df[\"GT\"] == \"Nam\"]\n",
    "print(\"\\nBảng thống kê DT (Nam):\")\n",
    "print(df_nam[\"DT\"].value_counts())"
   ]
  },
  {
   "cell_type": "code",
   "execution_count": null,
   "metadata": {},
   "outputs": [],
   "source": [
    "# 4. Trình bày dữ liệu biến KV với học sinh nam thuộc dân tộc Kinh và có điểm DH1 >= 5.0, DH2 >= 4.0, DH3 >= 4.0\n",
    "df_filtered = df_nam[(df_nam[\"DT\"] == \"Kinh\") & (df_nam[\"DH1\"] >= 5.0) & (df_nam[\"DH2\"] >= 4.0) & (df_nam[\"DH3\"] >= 4.0)]\n",
    "print(\"\\nBảng thống kê KV (Nam, dân tộc Kinh, điểm đạt yêu cầu):\")\n",
    "print(df_filtered[\"KV\"].value_counts())"
   ]
  },
  {
   "cell_type": "code",
   "execution_count": null,
   "metadata": {},
   "outputs": [],
   "source": [
    "# 5. Trình bày dữ liệu các biến DH1, DH2, DH3 >= 5.0 và thuộc KV 2NT\n",
    "df_2nt = df[(df[\"KV\"] == \"2NT\") & (df[\"DH1\"] >= 5.0) & (df[\"DH2\"] >= 5.0) & (df[\"DH3\"] >= 5.0)]\n",
    "print(\"\\nBảng thống kê DH1, DH2, DH3 >= 5.0 thuộc KV 2NT:\")\n",
    "print(df_2nt[[\"DH1\", \"DH2\", \"DH3\"]].describe())\n"
   ]
  },
  {
   "cell_type": "markdown",
   "metadata": {},
   "source": [
    "## **Phần 3: Trực quan hóa dữ liệu theo nhóm phân loại**"
   ]
  },
  {
   "cell_type": "code",
   "execution_count": null,
   "metadata": {},
   "outputs": [],
   "source": [
    "import pandas as pd\n",
    "import matplotlib.pyplot as plt\n",
    "import seaborn as sns\n",
    "\n",
    "# Đọc dữ liệu từ tệp CSV\n",
    "file_path = \"processed_dulieuxettuyendaihoc.csv\"\n",
    "df = pd.read_csv(file_path)\n",
    "\n",
    "# 1. Trực quan dữ liệu học sinh nữ trên các nhóm XL1, XL2, XL3 dạng unstacked\n",
    "df_nu = df[df[\"GT\"] == \"Nữ\"]\n",
    "xl_counts = df_nu[[\"XL1\", \"XL2\", \"XL3\"]].apply(pd.Series.value_counts)\n",
    "\n",
    "xl_counts.plot(kind=\"bar\", stacked=False, figsize=(8, 5), color=[\"yellow\", \"orange\", \"blue\", \"green\", \"red\"])\n",
    "plt.title(\"Phân bố xếp loại theo XL1, XL2, XL3 (Học sinh nữ)\")\n",
    "plt.xlabel(\"Xếp loại\")\n",
    "plt.ylabel(\"Số lượng\")\n",
    "plt.legend([\"XL1\", \"XL2\", \"XL3\"])\n",
    "plt.show()"
   ]
  },
  {
   "cell_type": "code",
   "execution_count": null,
   "metadata": {},
   "outputs": [],
   "source": [
    "# 2. Trực quan dữ liệu KQXT trên nhóm học sinh có khối thi A, A1, B thuộc khu vực 1, 2\n",
    "df_kqxt = df[(df[\"KhoiThi\"].isin([\"A\", \"A1\", \"B\"])) & (df[\"KV\"].isin([\"1\", \"2\"]))]\n",
    "sns.histplot(df_kqxt[\"KQXT\"], bins=10, kde=True, color=\"blue\")\n",
    "plt.title(\"Phân bố KQXT trên nhóm học sinh khối A, A1, B thuộc khu vực 1, 2\")\n",
    "plt.xlabel(\"Kết quả xét tuyển\")\n",
    "plt.ylabel(\"Số lượng\")\n",
    "plt.show()"
   ]
  },
  {
   "cell_type": "code",
   "execution_count": null,
   "metadata": {},
   "outputs": [],
   "source": [
    "# 3. Trực quan dữ liệu số lượng thí sinh từng khu vực dựa trên từng nhóm khối thi\n",
    "df_khoi_kv = df.groupby([\"KV\", \"KhoiThi\"]).size().unstack()\n",
    "df_khoi_kv.plot(kind=\"bar\", figsize=(8, 5), stacked=True)\n",
    "plt.title(\"Số lượng thí sinh từng khu vực theo nhóm khối thi\")\n",
    "plt.xlabel(\"Khu vực\")\n",
    "plt.ylabel(\"Số lượng\")\n",
    "plt.legend(title=\"Khối thi\")\n",
    "plt.show()"
   ]
  },
  {
   "cell_type": "code",
   "execution_count": null,
   "metadata": {},
   "outputs": [],
   "source": [
    "# 4. Trực quan dữ liệu số lượng thí sinh đậu, rớt trên từng nhóm khối thi\n",
    "df_pass_fail_khoi = df.groupby([\"KhoiThi\", \"KQXT\"]).size().unstack()\n",
    "df_pass_fail_khoi.plot(kind=\"bar\", figsize=(8, 5), stacked=True, color=[\"red\", \"green\"])\n",
    "plt.title(\"Số lượng thí sinh đậu rớt trên từng nhóm khối thi\")\n",
    "plt.xlabel(\"Khối thi\")\n",
    "plt.ylabel(\"Số lượng\")\n",
    "plt.legend([\"Rớt\", \"Đậu\"])\n",
    "plt.show()"
   ]
  },
  {
   "cell_type": "code",
   "execution_count": null,
   "metadata": {},
   "outputs": [],
   "source": [
    "# 5. Trực quan dữ liệu số lượng thí sinh đậu rớt trên từng nhóm khu vực\n",
    "df_pass_fail_kv = df.groupby([\"KV\", \"KQXT\"]).size().unstack()\n",
    "df_pass_fail_kv.plot(kind=\"bar\", figsize=(8, 5), stacked=True, color=[\"red\", \"green\"])\n",
    "plt.title(\"Số lượng thí sinh đậu rớt theo khu vực\")\n",
    "plt.xlabel(\"Khu vực\")\n",
    "plt.ylabel(\"Số lượng\")\n",
    "plt.legend([\"Rớt\", \"Đậu\"])\n",
    "plt.show()"
   ]
  },
  {
   "cell_type": "code",
   "execution_count": null,
   "metadata": {},
   "outputs": [],
   "source": [
    "# 6. Trực quan dữ liệu số lượng thí sinh đậu rớt dựa trên từng nhóm dân tộc\n",
    "df_pass_fail_dt = df.groupby([\"DT\", \"KQXT\"]).size().unstack()\n",
    "df_pass_fail_dt.plot(kind=\"bar\", figsize=(10, 5), stacked=True, color=[\"red\", \"green\"])\n",
    "plt.title(\"Số lượng thí sinh đậu rớt theo dân tộc\")\n",
    "plt.xlabel(\"Dân tộc\")\n",
    "plt.ylabel(\"Số lượng\")\n",
    "plt.legend([\"Rớt\", \"Đậu\"])\n",
    "plt.show()"
   ]
  },
  {
   "cell_type": "code",
   "execution_count": null,
   "metadata": {},
   "outputs": [],
   "source": [
    "# 7. Trực quan dữ liệu số lượng thí sinh đậu rớt dựa trên từng nhóm giới tính\n",
    "df_pass_fail_gt = df.groupby([\"GT\", \"KQXT\"]).size().unstack()\n",
    "df_pass_fail_gt.plot(kind=\"bar\", figsize=(8, 5), stacked=True, color=[\"red\", \"green\"])\n",
    "plt.title(\"Số lượng thí sinh đậu rớt theo giới tính\")\n",
    "plt.xlabel(\"Giới tính\")\n",
    "plt.ylabel(\"Số lượng\")\n",
    "plt.legend([\"Rớt\", \"Đậu\"])\n",
    "plt.show()"
   ]
  },
  {
   "cell_type": "markdown",
   "metadata": {},
   "source": [
    "## **Phần 4: Trực quan hóa dữ liệu nâng cao**"
   ]
  },
  {
   "cell_type": "code",
   "execution_count": null,
   "metadata": {},
   "outputs": [],
   "source": [
    "import pandas as pd\n",
    "import matplotlib.pyplot as plt\n",
    "import seaborn as sns\n",
    "\n",
    "# Đọc dữ liệu từ tệp CSV\n",
    "file_path = \"processed_dulieuxettuyendaihoc.csv\"\n",
    "df = pd.read_csv(file_path)\n",
    "\n",
    "# 1. Vẽ biểu đồ đường Simple cho biến T1\n",
    "plt.figure(figsize=(10, 5))\n",
    "plt.plot(df.index, df[\"T1\"], marker=\"o\", linestyle=\"-\", color=\"blue\")\n",
    "plt.title(\"Biểu đồ đường Simple của biến T1\")\n",
    "plt.xlabel(\"Index\")\n",
    "plt.ylabel(\"T1\")\n",
    "plt.grid(True)\n",
    "plt.show()"
   ]
  },
  {
   "cell_type": "code",
   "execution_count": null,
   "metadata": {},
   "outputs": [],
   "source": [
    "# 2. Tạo biến phân loại (phanlopt1) cho môn Toán (T1)\n",
    "def classify_t1(score):\n",
    "    if score < 5:\n",
    "        return \"k\"\n",
    "    elif 5 <= score < 7:\n",
    "        return \"tb\"\n",
    "    elif 7 <= score < 8:\n",
    "        return \"k\"\n",
    "    else:\n",
    "        return \"g\"\n",
    "\n",
    "df[\"phanlopt1\"] = df[\"T1\"].apply(classify_t1)\n"
   ]
  },
  {
   "cell_type": "code",
   "execution_count": null,
   "metadata": {},
   "outputs": [],
   "source": [
    "# 3. Lập bảng tần số cho biến phanlopt1\n",
    "phanlopt1_freq = df[\"phanlopt1\"].value_counts()\n",
    "print(\"Bảng tần số của biến phanlopt1:\")\n",
    "print(phanlopt1_freq)"
   ]
  },
  {
   "cell_type": "code",
   "execution_count": null,
   "metadata": {},
   "outputs": [],
   "source": [
    "# 4. Vẽ biểu đồ đường Multiple Line cho biến T1 được phân loại bởi biến phanlopt1\n",
    "plt.figure(figsize=(10, 5))\n",
    "sns.lineplot(data=df, x=df.index, y=\"T1\", hue=\"phanlopt1\", marker=\"o\")\n",
    "plt.title(\"Biểu đồ đường Multiple Line của T1 theo phanlopt1\")\n",
    "plt.xlabel(\"Index\")\n",
    "plt.ylabel(\"T1\")\n",
    "plt.grid(True)\n",
    "plt.legend(title=\"Phân loại T1\")\n",
    "plt.show()\n"
   ]
  },
  {
   "cell_type": "code",
   "execution_count": null,
   "metadata": {},
   "outputs": [],
   "source": [
    "# 5. Vẽ biểu đồ Drop-line cho biến T1 được phân loại bởi biến phanlopt1\n",
    "plt.figure(figsize=(10, 5))\n",
    "for i in range(len(df)):\n",
    "    plt.plot([df.index[i], df.index[i]], [0, df[\"T1\"].iloc[i]], linestyle=\"dashed\", color=\"gray\")\n",
    "    plt.scatter(df.index[i], df[\"T1\"].iloc[i], c=\"red\" if df[\"phanlopt1\"].iloc[i] == \"g\" else \"blue\")\n",
    "\n",
    "plt.title(\"Biểu đồ Drop-line của T1 theo phanlopt1\")\n",
    "plt.xlabel(\"Index\")\n",
    "plt.ylabel(\"T1\")\n",
    "plt.grid(True)\n",
    "plt.show()\n"
   ]
  },
  {
   "cell_type": "markdown",
   "metadata": {},
   "source": [
    "## **Phần 5: Mô tả dữ liệu và khảo sát dạng phân phối**"
   ]
  },
  {
   "cell_type": "code",
   "execution_count": null,
   "metadata": {},
   "outputs": [],
   "source": [
    "import pandas as pd\n",
    "import matplotlib.pyplot as plt\n",
    "import seaborn as sns\n",
    "import scipy.stats as stats\n",
    "import numpy as np\n",
    "\n",
    "# Đọc dữ liệu từ tệp CSV\n",
    "file_path = \"processed_dulieuxettuyendaihoc.csv\"\n",
    "df = pd.read_csv(file_path)\n",
    "\n",
    "# 1. Mô tả và khảo sát phân phối cho biến T1\n",
    "print(df[\"T1\"].describe())\n",
    "\n",
    "# Vẽ biểu đồ Box-Plot\n",
    "plt.figure(figsize=(8, 5))\n",
    "sns.boxplot(y=df[\"T1\"], color=\"lightblue\")\n",
    "plt.title(\"Box-Plot của T1\")\n",
    "plt.grid()\n",
    "plt.show()\n",
    "\n",
    "# Vẽ biểu đồ Histogram\n",
    "plt.figure(figsize=(8, 5))\n",
    "sns.histplot(df[\"T1\"], bins=20, kde=True, color=\"skyblue\")\n",
    "plt.title(\"Histogram của T1\")\n",
    "plt.xlabel(\"T1\")\n",
    "plt.ylabel(\"Tần suất\")\n",
    "plt.grid()\n",
    "plt.show()\n",
    "\n",
    "# Kiểm chứng phân phối chuẩn QQ-Plot\n",
    "plt.figure(figsize=(8, 5))\n",
    "stats.probplot(df[\"T1\"], dist=\"norm\", plot=plt)\n",
    "plt.title(\"QQ-Plot của T1\")\n",
    "plt.grid()\n",
    "plt.show()"
   ]
  },
  {
   "cell_type": "code",
   "execution_count": null,
   "metadata": {},
   "outputs": [],
   "source": [
    "# 2. Mô tả và khảo sát phân phối cho biến T1 trên từng nhóm phân lớp\n",
    "plt.figure(figsize=(10, 5))\n",
    "sns.boxplot(x=df[\"phanlopt1\"], y=df[\"T1\"], palette=\"pastel\")\n",
    "plt.title(\"Box-Plot của T1 theo phân lớp\")\n",
    "plt.xlabel(\"Phân loại T1\")\n",
    "plt.ylabel(\"T1\")\n",
    "plt.grid()\n",
    "plt.show()\n",
    "\n",
    "plt.figure(figsize=(10, 5))\n",
    "sns.histplot(df, x=\"T1\", hue=\"phanlopt1\", bins=20, kde=True, palette=\"pastel\")\n",
    "plt.title(\"Histogram của T1 theo phân lớp\")\n",
    "plt.xlabel(\"T1\")\n",
    "plt.ylabel(\"Tần suất\")\n",
    "plt.grid()\n",
    "plt.show()\n",
    "\n",
    "plt.figure(figsize=(8, 5))\n",
    "sns.lmplot(x=\"T1\", y=\"T1\", hue=\"phanlopt1\", data=df, fit_reg=False)\n",
    "plt.title(\"QQ-Plot của T1 theo phân lớp\")\n",
    "plt.grid()\n",
    "plt.show()"
   ]
  },
  {
   "cell_type": "code",
   "execution_count": null,
   "metadata": {},
   "outputs": [],
   "source": [
    "# 3. Khảo sát tương quan giữa biến DH1 theo biến T1\n",
    "correlation = df[[\"DH1\", \"T1\"]].corr().iloc[0,1]\n",
    "print(f\"Hệ số tương quan giữa DH1 và T1: {correlation}\")\n",
    "\n",
    "plt.figure(figsize=(8, 5))\n",
    "sns.scatterplot(x=df[\"T1\"], y=df[\"DH1\"], color=\"blue\")\n",
    "plt.title(\"Scatter Plot: DH1 theo T1\")\n",
    "plt.xlabel(\"T1\")\n",
    "plt.ylabel(\"DH1\")\n",
    "plt.grid()\n",
    "plt.show()"
   ]
  },
  {
   "cell_type": "code",
   "execution_count": null,
   "metadata": {},
   "outputs": [],
   "source": [
    "# 4. Khảo sát tương quan giữa DH1 theo T1 trên từng nhóm khu vực\n",
    "plt.figure(figsize=(8, 5))\n",
    "sns.lmplot(x=\"T1\", y=\"DH1\", hue=\"KV\", data=df, fit_reg=True)\n",
    "plt.title(\"Tương quan DH1 và T1 theo từng khu vực\")\n",
    "plt.grid()\n",
    "plt.show()"
   ]
  },
  {
   "cell_type": "code",
   "execution_count": null,
   "metadata": {},
   "outputs": [],
   "source": [
    "# 5. Khảo sát tương quan giữa DH1, DH2, DH3\n",
    "correlation_matrix = df[[\"DH1\", \"DH2\", \"DH3\"]].corr()\n",
    "print(\"Ma trận tương quan giữa DH1, DH2, DH3:\")\n",
    "print(correlation_matrix)\n",
    "\n",
    "sns.pairplot(df, vars=[\"DH1\", \"DH2\", \"DH3\"], kind=\"scatter\", diag_kind=\"kde\", palette=\"coolwarm\")\n",
    "plt.show()"
   ]
  }
 ],
 "metadata": {
  "kernelspec": {
   "display_name": ".venv",
   "language": "python",
   "name": "python3"
  },
  "language_info": {
   "codemirror_mode": {
    "name": "ipython",
    "version": 3
   },
   "file_extension": ".py",
   "mimetype": "text/x-python",
   "name": "python",
   "nbconvert_exporter": "python",
   "pygments_lexer": "ipython3",
   "version": "3.13.1"
  }
 },
 "nbformat": 4,
 "nbformat_minor": 2
}
