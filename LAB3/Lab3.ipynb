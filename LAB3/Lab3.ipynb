{
 "cells": [
  {
   "cell_type": "code",
   "execution_count": null,
   "metadata": {},
   "outputs": [],
   "source": [
    "import pandas as pd\n",
    "import numpy as np\n",
    "import re\n",
    "\n",
    "#1️ Đọc dữ liệu từ file CSV\n",
    "file_path = \"patient_heart_rate.csv\"\n",
    "df = pd.read_csv(file_path, header=None)"
   ]
  },
  {
   "cell_type": "code",
   "execution_count": null,
   "metadata": {},
   "outputs": [],
   "source": [
    "#2️ Đặt tên cột cho dataset (giả sử đúng thứ tự)\n",
    "df.columns = [\"Name\", \"Age\", \"Weight\", \"HR1\", \"HR2\", \"HR3\", \"HR4\", \"HR5\", \"HR6\"]"
   ]
  },
  {
   "cell_type": "code",
   "execution_count": null,
   "metadata": {},
   "outputs": [],
   "source": [
    "#3️ Tách cột Name thành Firstname và Lastname\n",
    "df[['Firstname', 'Lastname']] = df['Name'].str.split(expand=True)\n",
    "df.drop(columns=['Name'], inplace=True)"
   ]
  },
  {
   "cell_type": "code",
   "execution_count": null,
   "metadata": {},
   "outputs": [],
   "source": [
    "#4️ Chuyển đổi đơn vị Weight về kg\n",
    "def convert_weight(value):\n",
    "    if \"lbs\" in str(value):\n",
    "        return round(float(str(value).replace(\"lbs\", \"\")) * 0.453592, 2)  # lbs -> kg\n",
    "    return float(str(value).replace(\"kg\", \"\"))\n",
    "df[\"Weight\"] = df[\"Weight\"].apply(convert_weight)"
   ]
  },
  {
   "cell_type": "code",
   "execution_count": null,
   "metadata": {},
   "outputs": [],
   "source": [
    "#5️ Xóa dòng trống và dòng trùng lặp\n",
    "df.dropna(how=\"all\", inplace=True)\n",
    "df.drop_duplicates(inplace=True)"
   ]
  },
  {
   "cell_type": "code",
   "execution_count": null,
   "metadata": {},
   "outputs": [],
   "source": [
    "#6️ Xử lý ký tự không phải ASCII\n",
    "def remove_non_ascii(text):\n",
    "    return re.sub(r'[^\\x00-\\x7F]+', '', str(text))\n",
    "df[\"Firstname\"] = df[\"Firstname\"].apply(remove_non_ascii)\n",
    "df[\"Lastname\"] = df[\"Lastname\"].apply(remove_non_ascii)"
   ]
  },
  {
   "cell_type": "code",
   "execution_count": null,
   "metadata": {},
   "outputs": [],
   "source": [
    "#7️ Xử lý dữ liệu bị thiếu\n",
    "age_mean = df[\"Age\"].mean()\n",
    "df[\"Age\"].fillna(age_mean, inplace=True)\n",
    "\n",
    "weight_mean = df[\"Weight\"].mean()\n",
    "df[\"Weight\"].fillna(weight_mean, inplace=True)\n",
    "\n",
    "df.dropna(subset=[\"Age\", \"Weight\"], how=\"all\", inplace=True)\n"
   ]
  },
  {
   "cell_type": "code",
   "execution_count": null,
   "metadata": {},
   "outputs": [],
   "source": [
    "#8️ Xử lý giá trị thiếu trên HR5\n",
    "def fill_missing_hr(row, col):\n",
    "    hr_cols = [\"HR1\", \"HR2\", \"HR3\", \"HR4\", \"HR5\", \"HR6\"]\n",
    "    idx = hr_cols.index(col)\n",
    "    prev_value = row[hr_cols[idx - 1]] if idx > 0 else np.nan\n",
    "    next_value = row[hr_cols[idx + 1]] if idx < len(hr_cols) - 1 else np.nan\n",
    "    if pd.notna(prev_value) and pd.notna(next_value):\n",
    "        return (prev_value + next_value) / 2\n",
    "    elif pd.notna(prev_value):\n",
    "        return prev_value\n",
    "    elif pd.notna(next_value):\n",
    "        return next_value\n",
    "    elif pd.notna(row[hr_cols].mean()):\n",
    "        return row[hr_cols].mean()\n",
    "    else:\n",
    "        return df[hr_cols].mean().mean()\n",
    "df[\"HR5\"] = df.apply(lambda row: fill_missing_hr(row, \"HR5\"), axis=1)\n"
   ]
  },
  {
   "cell_type": "code",
   "execution_count": null,
   "metadata": {},
   "outputs": [],
   "source": [
    "# Reindex lại dữ liệu\n",
    "df.reset_index(drop=True, inplace=True)\n",
    "\n",
    "df.head()\n"
   ]
  }
 ],
 "metadata": {
  "kernelspec": {
   "display_name": ".venv",
   "language": "python",
   "name": "python3"
  },
  "language_info": {
   "name": "python",
   "version": "3.13.1"
  }
 },
 "nbformat": 4,
 "nbformat_minor": 2
}
