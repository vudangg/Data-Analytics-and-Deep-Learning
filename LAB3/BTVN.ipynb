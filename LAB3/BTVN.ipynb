{
 "cells": [
  {
   "cell_type": "code",
   "execution_count": 1,
   "metadata": {},
   "outputs": [],
   "source": [
    "# Xác định và xóa các bản ghi trùng lặp dựa trên thông tin khách hàng\n",
    "\n",
    "import pandas as pd\n",
    "\n",
    "# Đọc dữ liệu từ tệp CSV\n",
    "df = pd.read_csv('dirty_data.csv')\n",
    "\n",
    "# 1. Xác định và xóa các bản ghi trùng lặp\n",
    "df_cleaned = df.drop_duplicates(subset=['customer_id'])"
   ]
  },
  {
   "cell_type": "code",
   "execution_count": 2,
   "metadata": {},
   "outputs": [
    {
     "name": "stderr",
     "output_type": "stream",
     "text": [
      "C:\\Users\\US\\AppData\\Local\\Temp\\ipykernel_14436\\2931629843.py:4: SettingWithCopyWarning: \n",
      "A value is trying to be set on a copy of a slice from a DataFrame.\n",
      "Try using .loc[row_indexer,col_indexer] = value instead\n",
      "\n",
      "See the caveats in the documentation: https://pandas.pydata.org/pandas-docs/stable/user_guide/indexing.html#returning-a-view-versus-a-copy\n",
      "  df_cleaned['age'] = pd.to_numeric(df_cleaned['age'], errors='coerce')  # Chuyển đổi thành số và lỗi thành NaN\n"
     ]
    }
   ],
   "source": [
    "# Xuất dữ liệu sạch\n",
    "# Xử lý dữ liệu sạch:\n",
    "# Sửa lỗi tuổi (-5) thành NaN và loại bỏ\n",
    "df_cleaned['age'] = pd.to_numeric(df_cleaned['age'], errors='coerce')  # Chuyển đổi thành số và lỗi thành NaN\n",
    "df_cleaned = df_cleaned[df_cleaned['age'] > 0]  # Giữ các giá trị tuổi > 0\n",
    "\n",
    "# - Sửa lỗi thu nhập âm (-500) thành NaN và loại bỏ\n",
    "df_cleaned['income'] = pd.to_numeric(df_cleaned['income'], errors='coerce')  # Chuyển thu nhập thành số và lỗi thành NaN\n",
    "df_cleaned = df_cleaned[df_cleaned['income'] > 0]  # Giữ các giá trị thu nhập > 0\n",
    "\n",
    "# - Sửa lỗi định dạng giới tính: chuẩn hóa giá trị 'Male', 'Female', 'unknown', 'F', 'M' thành 'Male', 'Female'\n",
    "df_cleaned['gender'] = df_cleaned['gender'].str.strip().str.capitalize()\n",
    "df_cleaned['gender'] = df_cleaned['gender'].replace({'Fem': 'Female', 'f': 'Female', 'M': 'Male', 'male': 'Male'})\n",
    "\n",
    "# - Xử lý ngày sinh: Chuyển tất cả về định dạng chuẩn 'yyyy-mm-dd'\n",
    "df_cleaned['dob'] = pd.to_datetime(df_cleaned['dob'], errors='coerce')\n",
    "\n",
    "# 3. Xuất dữ liệu sạch\n",
    "df_cleaned = df_cleaned.dropna(subset=['age', 'income', 'dob', 'gender'])  # Loại bỏ các dòng thiếu dữ liệu quan trọng\n"
   ]
  },
  {
   "cell_type": "code",
   "execution_count": 3,
   "metadata": {},
   "outputs": [
    {
     "name": "stdout",
     "output_type": "stream",
     "text": [
      "   customer_id          name   age  gender        dob  income          email\n",
      "0          101  Nguyen Van A  25.0    Male 1998-05-22  1200.0  a@example.com\n",
      "1          102    Tran Thi B  42.0  Female 1981-07-14  4500.0  b@example.com\n",
      "6          107     Bui Thi G  29.0  Female 1994-06-15  3800.0  g@example.com\n",
      "7          108    Dang Van H  40.0       F 1990-01-29  4200.0  h@example.com\n",
      "8          109      Vo Thi I  27.0    Male 1995-04-10  3900.0  i@example.com\n"
     ]
    }
   ],
   "source": [
    "# Lưu tập dữ liệu đã làm sạch thành tệp mới clean_data.csv\n",
    "\n",
    "df_cleaned.to_csv('clean_data.csv', index=False)\n",
    "\n",
    "# Xuất dữ liệu đã làm sạch để kiểm tra\n",
    "print(df_cleaned)"
   ]
  }
 ],
 "metadata": {
  "kernelspec": {
   "display_name": "Python 3",
   "language": "python",
   "name": "python3"
  },
  "language_info": {
   "codemirror_mode": {
    "name": "ipython",
    "version": 3
   },
   "file_extension": ".py",
   "mimetype": "text/x-python",
   "name": "python",
   "nbconvert_exporter": "python",
   "pygments_lexer": "ipython3",
   "version": "3.9.3"
  },
  "orig_nbformat": 4,
  "vscode": {
   "interpreter": {
    "hash": "11938c6bc6919ae2720b4d5011047913343b08a43b18698fd82dedb0d4417594"
   }
  }
 },
 "nbformat": 4,
 "nbformat_minor": 2
}
